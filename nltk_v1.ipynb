{
  "nbformat": 4,
  "nbformat_minor": 0,
  "metadata": {
    "colab": {
      "provenance": [],
      "authorship_tag": "ABX9TyMXjUPpuhlAjDrS7xtHLiXH",
      "include_colab_link": true
    },
    "kernelspec": {
      "name": "python3",
      "display_name": "Python 3"
    },
    "language_info": {
      "name": "python"
    }
  },
  "cells": [
    {
      "cell_type": "markdown",
      "metadata": {
        "id": "view-in-github",
        "colab_type": "text"
      },
      "source": [
        "<a href=\"https://colab.research.google.com/github/jfgesis/Panda/blob/main/nltk_v1.ipynb\" target=\"_parent\"><img src=\"https://colab.research.google.com/assets/colab-badge.svg\" alt=\"Open In Colab\"/></a>"
      ]
    },
    {
      "cell_type": "code",
      "execution_count": null,
      "metadata": {
        "id": "7CFGHh4eit5g"
      },
      "outputs": [],
      "source": [
        "import nltk\n",
        "nltk.download('cess_esp')"
      ]
    },
    {
      "cell_type": "markdown",
      "source": [
        "# **Las expresiones regulares**\n",
        "son patrones de búsqueda y manipulación de texto que se utilizan para identificar, buscar y manipular cadenas de caracteres basadas en ciertas reglas o patrones predefinidos. Estos patrones pueden ser simples o altamente complejos y flexibles.\n",
        "\n"
      ],
      "metadata": {
        "id": "fe4nYTSljtcX"
      }
    },
    {
      "cell_type": "code",
      "source": [
        "# spanish Corpus: https://mailman.uib.no/public/corpora/2007-October/005448.html\n",
        "import re\n",
        "corpus = nltk.corpus.cess_esp.sents()\n",
        "print(corpus)\n",
        "print(len(corpus))"
      ],
      "metadata": {
        "colab": {
          "base_uri": "https://localhost:8080/"
        },
        "id": "OXFu_Wpcvwye",
        "outputId": "f23adbd1-5845-4057-fc04-66934216c633"
      },
      "execution_count": 3,
      "outputs": [
        {
          "output_type": "stream",
          "name": "stdout",
          "text": [
            "[['El', 'grupo', 'estatal', 'Electricité_de_France', '-Fpa-', 'EDF', '-Fpt-', 'anunció', 'hoy', ',', 'jueves', ',', 'la', 'compra', 'del', '51_por_ciento', 'de', 'la', 'empresa', 'mexicana', 'Electricidad_Águila_de_Altamira', '-Fpa-', 'EAA', '-Fpt-', ',', 'creada', 'por', 'el', 'japonés', 'Mitsubishi_Corporation', 'para', 'poner_en_marcha', 'una', 'central', 'de', 'gas', 'de', '495', 'megavatios', '.'], ['Una', 'portavoz', 'de', 'EDF', 'explicó', 'a', 'EFE', 'que', 'el', 'proyecto', 'para', 'la', 'construcción', 'de', 'Altamira_2', ',', 'al', 'norte', 'de', 'Tampico', ',', 'prevé', 'la', 'utilización', 'de', 'gas', 'natural', 'como', 'combustible', 'principal', 'en', 'una', 'central', 'de', 'ciclo', 'combinado', 'que', 'debe', 'empezar', 'a', 'funcionar', 'en', 'mayo_del_2002', '.'], ...]\n",
            "6030\n"
          ]
        }
      ]
    },
    {
      "cell_type": "code",
      "source": [
        "flatten = [w for l in corpus for w in l]\n",
        "print(flatten[:20])\n",
        "print(len(flatten))"
      ],
      "metadata": {
        "colab": {
          "base_uri": "https://localhost:8080/"
        },
        "id": "g-mesdh9w7c0",
        "outputId": "5a105349-682e-4cc0-803b-5bddfffb906d"
      },
      "execution_count": 4,
      "outputs": [
        {
          "output_type": "stream",
          "name": "stdout",
          "text": [
            "['El', 'grupo', 'estatal', 'Electricité_de_France', '-Fpa-', 'EDF', '-Fpt-', 'anunció', 'hoy', ',', 'jueves', ',', 'la', 'compra', 'del', '51_por_ciento', 'de', 'la', 'empresa', 'mexicana']\n",
            "192686\n"
          ]
        }
      ]
    },
    {
      "cell_type": "markdown",
      "source": [
        "Estructura de la funcion re.search()\n",
        "# Determina si el patron de búsqueda p esta contenido en la cadena s\n",
        "re.seach(p, s)"
      ],
      "metadata": {
        "id": "rtNb6csZ0KG4"
      }
    },
    {
      "cell_type": "code",
      "source": [
        "# Meta-caracteres básicos\n",
        "arr = [w for w in flatten if re.search('es', w)]\n",
        "arr[:5]"
      ],
      "metadata": {
        "colab": {
          "base_uri": "https://localhost:8080/"
        },
        "id": "MQY101yC0OZU",
        "outputId": "38db0c94-dd7e-409e-9ea8-9936d4e75b55"
      },
      "execution_count": 17,
      "outputs": [
        {
          "output_type": "execute_result",
          "data": {
            "text/plain": [
              "['estatal', 'jueves', 'empresa', 'centrales', 'francesa']"
            ]
          },
          "metadata": {},
          "execution_count": 17
        }
      ]
    },
    {
      "cell_type": "code",
      "source": [
        "arr = [w for w in flatten if re.search('es', w)]\n",
        "arr[:5]"
      ],
      "metadata": {
        "colab": {
          "base_uri": "https://localhost:8080/"
        },
        "id": "TWJGLrSN1KQA",
        "outputId": "54e85076-e05f-44b2-f248-41776ef31ffe"
      },
      "execution_count": 18,
      "outputs": [
        {
          "output_type": "execute_result",
          "data": {
            "text/plain": [
              "['estatal', 'jueves', 'empresa', 'centrales', 'francesa']"
            ]
          },
          "metadata": {},
          "execution_count": 18
        }
      ]
    },
    {
      "cell_type": "code",
      "source": [
        "arr = [w for w in flatten if re.search('^..j..t..$', w)]\n",
        "arr"
      ],
      "metadata": {
        "colab": {
          "base_uri": "https://localhost:8080/"
        },
        "id": "6OLTl1Hl1QVI",
        "outputId": "4b686cf8-d117-4b1f-8f30-1fb93d8eb43f"
      },
      "execution_count": 19,
      "outputs": [
        {
          "output_type": "execute_result",
          "data": {
            "text/plain": [
              "['tajantes']"
            ]
          },
          "metadata": {},
          "execution_count": 19
        }
      ]
    },
    {
      "cell_type": "code",
      "source": [
        "#Rangos [a-z], [A-Z], [0-9]\n",
        "arr = [w for w in flatten if re.search('^[ghi][mno][jlk][def]$', w)]\n",
        "arr"
      ],
      "metadata": {
        "colab": {
          "base_uri": "https://localhost:8080/"
        },
        "id": "qYQ2ozPA1Xd9",
        "outputId": "b33833fe-36e0-4a2d-b07e-bbd23497e96f"
      },
      "execution_count": 20,
      "outputs": [
        {
          "output_type": "execute_result",
          "data": {
            "text/plain": [
              "['golf', 'golf']"
            ]
          },
          "metadata": {},
          "execution_count": 20
        }
      ]
    },
    {
      "cell_type": "code",
      "source": [
        "arr = [w for w in flatten if re.search('^[fhi]', w)]\n",
        "print(arr[:10]) # Al principio de cada la cadena de texto puede ser cualquier letra f, h o i"
      ],
      "metadata": {
        "colab": {
          "base_uri": "https://localhost:8080/"
        },
        "id": "nS5bbyQo1zTu",
        "outputId": "f1b5f33a-b4bd-4b59-84f1-84edcfb828c8"
      },
      "execution_count": 25,
      "outputs": [
        {
          "output_type": "stream",
          "name": "stdout",
          "text": [
            "['hoy', 'funcionar', 'intervendrá', 'francesa', 'invertir', 'funcionará', 'hoy', 'formación', 'insulto', 'intervención']\n"
          ]
        }
      ]
    },
    {
      "cell_type": "code",
      "source": [
        "#Clausuras *, * (Kleene closures)\n",
        "arr = [w for w in flatten if re.search('^(no)*', w)]\n",
        "print(arr[:10]) ## esta 0 veces o al menos una vez"
      ],
      "metadata": {
        "colab": {
          "base_uri": "https://localhost:8080/"
        },
        "id": "3k6pnaHj1hGd",
        "outputId": "4d24bf84-a9b0-4192-9d23-3ab0ba53c813"
      },
      "execution_count": 26,
      "outputs": [
        {
          "output_type": "stream",
          "name": "stdout",
          "text": [
            "['El', 'grupo', 'estatal', 'Electricité_de_France', '-Fpa-', 'EDF', '-Fpt-', 'anunció', 'hoy', ',']\n"
          ]
        }
      ]
    },
    {
      "cell_type": "code",
      "source": [
        "arr = [w for w in flatten if re.search('(no)+', w)]\n",
        "print(arr[:10])  ## esta 1 o mas veces"
      ],
      "metadata": {
        "colab": {
          "base_uri": "https://localhost:8080/"
        },
        "id": "_M_cRwUL2uYW",
        "outputId": "f154e531-8b45-4616-f49c-8d2e45a887d3"
      },
      "execution_count": 28,
      "outputs": [
        {
          "output_type": "stream",
          "name": "stdout",
          "text": [
            "['norte', 'no', 'no', 'noche', 'no', 'no', 'gobierno', 'notificación', 'Unión_Fenosa_Inversiones', 'italiano']\n"
          ]
        }
      ]
    },
    {
      "cell_type": "markdown",
      "source": [
        "# **Normalización de Texto** (como aplicación de las expresiones regulares)"
      ],
      "metadata": {
        "id": "90glU2qf4PrD"
      }
    },
    {
      "cell_type": "markdown",
      "source": [
        "Tokenización: Es el proceso mediante el cual se sub-divide una cadena de texto en unidades linguísticas minimas (palabras)"
      ],
      "metadata": {
        "id": "jLJ3GbnS4foh"
      }
    },
    {
      "cell_type": "code",
      "source": [
        "print('esto es \\n una prueba')\n",
        "## print('esto es \\n una prueba') para imprimilo plano hay q ponerle la r"
      ],
      "metadata": {
        "colab": {
          "base_uri": "https://localhost:8080/"
        },
        "id": "XNanN1tR4xJk",
        "outputId": "595581ef-9173-481a-9e12-bacc9eb4c5f5"
      },
      "execution_count": 35,
      "outputs": [
        {
          "output_type": "stream",
          "name": "stdout",
          "text": [
            "esto es \n",
            " una prueba\n"
          ]
        }
      ]
    },
    {
      "cell_type": "code",
      "source": [
        "texto = \"\"\" Cuando sea el rey del mundo  (imaginaba él en su cabeza) no tendré que  preocuparme por estas bobadas.\n",
        "            Era solo un niño de 7 años, pero pensaba que podría ser cualquier cosa que su imaginación le permitiera visualizar en su cabeza ...\"\"\"\n",
        "print(texto)"
      ],
      "metadata": {
        "colab": {
          "base_uri": "https://localhost:8080/"
        },
        "id": "CC7soZWS4ixW",
        "outputId": "6109a7aa-a50f-46d4-f964-ebe7ee108dc8"
      },
      "execution_count": 30,
      "outputs": [
        {
          "output_type": "stream",
          "name": "stdout",
          "text": [
            " Cuando sea el rey del mundo  (imaginaba él en su cabeza) no tendré que  preocuparme por estas bobadas. \n",
            "            Era solo un niño de 7 años, pero pensaba que podría ser cualquier cosa que su imaginación le permitiera visualizar en su cabeza ...\n"
          ]
        }
      ]
    },
    {
      "cell_type": "code",
      "source": [
        "# Caso 1: tokenizacion más simple: por espacios vacios !\n",
        "print(re.split(r' ', texto))"
      ],
      "metadata": {
        "colab": {
          "base_uri": "https://localhost:8080/"
        },
        "id": "TJa3oM736DVe",
        "outputId": "c7b2bd32-9015-4951-b6e5-aa768965c30c"
      },
      "execution_count": 36,
      "outputs": [
        {
          "output_type": "stream",
          "name": "stdout",
          "text": [
            "['', 'Cuando', 'sea', 'el', 'rey', 'del', 'mundo', '', '(imaginaba', 'él', 'en', 'su', 'cabeza)', 'no', 'tendré', 'que', '', 'preocuparme', 'por', 'estas', 'bobadas.', '\\n', '', '', '', '', '', '', '', '', '', '', '', 'Era', 'solo', 'un', 'niño', 'de', '7', 'años,', 'pero', 'pensaba', 'que', 'podría', 'ser', 'cualquier', 'cosa', 'que', 'su', 'imaginación', 'le', 'permitiera', 'visualizar', 'en', 'su', 'cabeza', '...']\n"
          ]
        }
      ]
    },
    {
      "cell_type": "code",
      "source": [
        "# Caso 2: tokenización usando expresiones regulares\n",
        "print(re.split(r'[ \\t\\n]+', texto))\n",
        "# rango con caracteres especiales para representarlo como un token"
      ],
      "metadata": {
        "colab": {
          "base_uri": "https://localhost:8080/"
        },
        "id": "O5BVhrJg6ObX",
        "outputId": "1873fb9a-d0e7-4e76-d18a-b3a4e0166fa8"
      },
      "execution_count": 37,
      "outputs": [
        {
          "output_type": "stream",
          "name": "stdout",
          "text": [
            "['', 'Cuando', 'sea', 'el', 'rey', 'del', 'mundo', '(imaginaba', 'él', 'en', 'su', 'cabeza)', 'no', 'tendré', 'que', 'preocuparme', 'por', 'estas', 'bobadas.', 'Era', 'solo', 'un', 'niño', 'de', '7', 'años,', 'pero', 'pensaba', 'que', 'podría', 'ser', 'cualquier', 'cosa', 'que', 'su', 'imaginación', 'le', 'permitiera', 'visualizar', 'en', 'su', 'cabeza', '...']\n"
          ]
        }
      ]
    },
    {
      "cell_type": "code",
      "source": [
        "# RegEx reference: \\W -> all characters other than letters, digits or underscore\n",
        "print(re.split(r'[ \\W\\t\\n]+', texto))\n",
        "# elimina los parentesis ( )"
      ],
      "metadata": {
        "colab": {
          "base_uri": "https://localhost:8080/"
        },
        "id": "cTTeEd1w6p9A",
        "outputId": "4cc02d8f-d49d-49a6-b89e-38fed4750981"
      },
      "execution_count": 39,
      "outputs": [
        {
          "output_type": "stream",
          "name": "stdout",
          "text": [
            "['', 'Cuando', 'sea', 'el', 'rey', 'del', 'mundo', 'imaginaba', 'él', 'en', 'su', 'cabeza', 'no', 'tendré', 'que', 'preocuparme', 'por', 'estas', 'bobadas', 'Era', 'solo', 'un', 'niño', 'de', '7', 'años', 'pero', 'pensaba', 'que', 'podría', 'ser', 'cualquier', 'cosa', 'que', 'su', 'imaginación', 'le', 'permitiera', 'visualizar', 'en', 'su', 'cabeza', '']\n"
          ]
        }
      ]
    },
    {
      "cell_type": "markdown",
      "source": [
        "## Tokenizador de NLTK"
      ],
      "metadata": {
        "id": "t9_Q0hM47Drx"
      }
    },
    {
      "cell_type": "code",
      "source": [
        "# nuestra antigua regex no funciona en este caso:\n",
        "texto = 'En los E.U. esa postal vale $15.50 ...'\n",
        "print(re.split(r'[ \\W\\t\\n]+', texto))"
      ],
      "metadata": {
        "colab": {
          "base_uri": "https://localhost:8080/"
        },
        "id": "9gl6Rb7o7HaO",
        "outputId": "33a2fa2c-5982-4485-cb0b-ca50c359bbf9"
      },
      "execution_count": 40,
      "outputs": [
        {
          "output_type": "stream",
          "name": "stdout",
          "text": [
            "['En', 'los', 'E', 'U', 'esa', 'postal', 'vale', '15', '50', '']\n"
          ]
        }
      ]
    },
    {
      "cell_type": "code",
      "source": [
        "print(re.split(r'(?:[A-Z]\\.)+', texto))\n",
        "# Hace match con abreviaciones como U.S.A."
      ],
      "metadata": {
        "colab": {
          "base_uri": "https://localhost:8080/"
        },
        "id": "Bum0e_7b7bWW",
        "outputId": "9977ca7a-0630-4e08-c739-bb40eaaba40e"
      },
      "execution_count": 42,
      "outputs": [
        {
          "output_type": "stream",
          "name": "stdout",
          "text": [
            "['En los ', ' esa postal vale $15.50 ...']\n"
          ]
        }
      ]
    },
    {
      "cell_type": "code",
      "source": [
        "print(re.split(r'| \\.\\.\\.', texto))"
      ],
      "metadata": {
        "colab": {
          "base_uri": "https://localhost:8080/"
        },
        "id": "wpipi2nj8LQZ",
        "outputId": "1bf0315c-65e4-458e-c153-47d567ce8ad8"
      },
      "execution_count": 43,
      "outputs": [
        {
          "output_type": "stream",
          "name": "stdout",
          "text": [
            "['', 'E', 'n', ' ', 'l', 'o', 's', ' ', 'E', '.', 'U', '.', ' ', 'e', 's', 'a', ' ', 'p', 'o', 's', 't', 'a', 'l', ' ', 'v', 'a', 'l', 'e', ' ', '$', '1', '5', '.', '5', '0', '', '', '']\n"
          ]
        }
      ]
    },
    {
      "cell_type": "code",
      "source": [
        "pattern = r'''(?x)                 # set flag to allow verbose regexps\n",
        "              (?:[A-Z]\\.)+         # abbreviations, e.g. U.S.A.\n",
        "              | \\w+(?:-\\w+)*       # words with optional internal hyphens\n",
        "              | \\$?\\d+(?:\\.\\d+)?%? # currency and percentages, e.g. $12.40, 82%\n",
        "              | \\.\\.\\.             # ellipsis\n",
        "              | [][.,;\"'?():-_`]   # these are separate tokens; includes ], [\n",
        "'''\n",
        "nltk.regexp_tokenize(texto, pattern)"
      ],
      "metadata": {
        "colab": {
          "base_uri": "https://localhost:8080/"
        },
        "id": "PszSqO-y8ufs",
        "outputId": "fb1a528f-8365-4f66-b971-5346137a0d2e"
      },
      "execution_count": 44,
      "outputs": [
        {
          "output_type": "execute_result",
          "data": {
            "text/plain": [
              "['En', 'los', 'E.U.', 'esa', 'postal', 'vale', '$15.50', '...']"
            ]
          },
          "metadata": {},
          "execution_count": 44
        }
      ]
    },
    {
      "cell_type": "markdown",
      "source": [
        "Lematización: Proceso para encontrar la raíz linguística de una palabra\n",
        "Derivación (stemming) : lematización simple"
      ],
      "metadata": {
        "id": "FIYnbP2bHKdb"
      }
    },
    {
      "cell_type": "code",
      "source": [
        "# Derivación simple\n",
        "from nltk import word_tokenize\n",
        "from nltk.stem.snowball import SnowballStemmer\n",
        "SnowballStemmer.languages"
      ],
      "metadata": {
        "colab": {
          "base_uri": "https://localhost:8080/"
        },
        "id": "EIyrc34jHLlB",
        "outputId": "45536fa9-59ed-49ed-dd6b-80ad22900a6c"
      },
      "execution_count": 1,
      "outputs": [
        {
          "output_type": "execute_result",
          "data": {
            "text/plain": [
              "('arabic',\n",
              " 'danish',\n",
              " 'dutch',\n",
              " 'english',\n",
              " 'finnish',\n",
              " 'french',\n",
              " 'german',\n",
              " 'hungarian',\n",
              " 'italian',\n",
              " 'norwegian',\n",
              " 'porter',\n",
              " 'portuguese',\n",
              " 'romanian',\n",
              " 'russian',\n",
              " 'spanish',\n",
              " 'swedish')"
            ]
          },
          "metadata": {},
          "execution_count": 1
        }
      ]
    },
    {
      "cell_type": "code",
      "source": [
        "stem = SnowballStemmer('spanish')\n",
        "stem.stem('trabajando')"
      ],
      "metadata": {
        "colab": {
          "base_uri": "https://localhost:8080/",
          "height": 35
        },
        "id": "6v64spKHHTed",
        "outputId": "4e5a6102-71a7-4dbb-d56c-c9634a78e36c"
      },
      "execution_count": 2,
      "outputs": [
        {
          "output_type": "execute_result",
          "data": {
            "text/plain": [
              "'trabaj'"
            ],
            "application/vnd.google.colaboratory.intrinsic+json": {
              "type": "string"
            }
          },
          "metadata": {},
          "execution_count": 2
        }
      ]
    },
    {
      "cell_type": "code",
      "source": [
        "# Lematización\n",
        "from nltk.stem import WordNetLemmatizer\n",
        "lemm = WordNetLemmatizer()"
      ],
      "metadata": {
        "id": "Aoq8C1nQHYj2"
      },
      "execution_count": 3,
      "outputs": []
    },
    {
      "cell_type": "code",
      "source": [],
      "metadata": {
        "id": "Mgm_YEKoHboA"
      },
      "execution_count": 4,
      "outputs": []
    }
  ]
}